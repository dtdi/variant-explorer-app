{
 "cells": [
  {
   "cell_type": "code",
   "execution_count": 1,
   "metadata": {},
   "outputs": [
    {
     "name": "stdout",
     "output_type": "stream",
     "text": [
      "Requirement already satisfied: numpy in c:\\users\\fehrer\\dtdiwork\\variant-explorer-app\\.venv\\lib\\site-packages (1.26.4)\n",
      "Requirement already satisfied: pandas in c:\\users\\fehrer\\dtdiwork\\variant-explorer-app\\.venv\\lib\\site-packages (2.2.2)\n",
      "Requirement already satisfied: openai in c:\\users\\fehrer\\dtdiwork\\variant-explorer-app\\.venv\\lib\\site-packages (1.23.1)\n",
      "Requirement already satisfied: scikit-learn in c:\\users\\fehrer\\dtdiwork\\variant-explorer-app\\.venv\\lib\\site-packages (1.1.3)\n",
      "Requirement already satisfied: scipy in c:\\users\\fehrer\\dtdiwork\\variant-explorer-app\\.venv\\lib\\site-packages (1.13.0)\n",
      "Requirement already satisfied: pm4py==2.7.11 in c:\\users\\fehrer\\dtdiwork\\variant-explorer-app\\.venv\\lib\\site-packages (2.7.11)\n",
      "Requirement already satisfied: requests in c:\\users\\fehrer\\dtdiwork\\variant-explorer-app\\.venv\\lib\\site-packages (2.31.0)\n",
      "Requirement already satisfied: prefixspan in c:\\users\\fehrer\\dtdiwork\\variant-explorer-app\\.venv\\lib\\site-packages (0.5.2)\n",
      "Collecting edist\n",
      "  Downloading edist-1.2.2.tar.gz (1.3 MB)\n",
      "     ---------------------------------------- 0.0/1.3 MB ? eta -:--:--\n",
      "     --------------------------- ------------ 0.9/1.3 MB 27.7 MB/s eta 0:00:01\n",
      "     ---------------------------------------- 1.3/1.3 MB 20.1 MB/s eta 0:00:00\n",
      "  Preparing metadata (setup.py): started\n",
      "  Preparing metadata (setup.py): finished with status 'done'\n",
      "Requirement already satisfied: deprecation in c:\\users\\fehrer\\dtdiwork\\variant-explorer-app\\.venv\\lib\\site-packages (from pm4py==2.7.11) (2.1.0)\n",
      "Requirement already satisfied: graphviz in c:\\users\\fehrer\\dtdiwork\\variant-explorer-app\\.venv\\lib\\site-packages (from pm4py==2.7.11) (0.20.3)\n",
      "Requirement already satisfied: intervaltree in c:\\users\\fehrer\\dtdiwork\\variant-explorer-app\\.venv\\lib\\site-packages (from pm4py==2.7.11) (3.1.0)\n",
      "Requirement already satisfied: lxml in c:\\users\\fehrer\\dtdiwork\\variant-explorer-app\\.venv\\lib\\site-packages (from pm4py==2.7.11) (5.2.1)\n",
      "Requirement already satisfied: matplotlib in c:\\users\\fehrer\\dtdiwork\\variant-explorer-app\\.venv\\lib\\site-packages (from pm4py==2.7.11) (3.6.2)\n",
      "Requirement already satisfied: networkx in c:\\users\\fehrer\\dtdiwork\\variant-explorer-app\\.venv\\lib\\site-packages (from pm4py==2.7.11) (3.0rc1)\n",
      "Requirement already satisfied: pydotplus in c:\\users\\fehrer\\dtdiwork\\variant-explorer-app\\.venv\\lib\\site-packages (from pm4py==2.7.11) (2.0.2)\n",
      "Requirement already satisfied: pytz in c:\\users\\fehrer\\dtdiwork\\variant-explorer-app\\.venv\\lib\\site-packages (from pm4py==2.7.11) (2024.1)\n",
      "Requirement already satisfied: tqdm in c:\\users\\fehrer\\dtdiwork\\variant-explorer-app\\.venv\\lib\\site-packages (from pm4py==2.7.11) (4.64.1)\n",
      "Requirement already satisfied: cvxopt in c:\\users\\fehrer\\dtdiwork\\variant-explorer-app\\.venv\\lib\\site-packages (from pm4py==2.7.11) (1.3.2)\n",
      "Requirement already satisfied: python-dateutil>=2.8.2 in c:\\users\\fehrer\\dtdiwork\\variant-explorer-app\\.venv\\lib\\site-packages (from pandas) (2.9.0.post0)\n",
      "Requirement already satisfied: tzdata>=2022.7 in c:\\users\\fehrer\\dtdiwork\\variant-explorer-app\\.venv\\lib\\site-packages (from pandas) (2024.1)\n",
      "Requirement already satisfied: anyio<5,>=3.5.0 in c:\\users\\fehrer\\dtdiwork\\variant-explorer-app\\.venv\\lib\\site-packages (from openai) (4.3.0)\n",
      "Requirement already satisfied: distro<2,>=1.7.0 in c:\\users\\fehrer\\dtdiwork\\variant-explorer-app\\.venv\\lib\\site-packages (from openai) (1.9.0)\n",
      "Requirement already satisfied: httpx<1,>=0.23.0 in c:\\users\\fehrer\\dtdiwork\\variant-explorer-app\\.venv\\lib\\site-packages (from openai) (0.27.0)\n",
      "Requirement already satisfied: pydantic<3,>=1.9.0 in c:\\users\\fehrer\\dtdiwork\\variant-explorer-app\\.venv\\lib\\site-packages (from openai) (2.7.0)\n",
      "Requirement already satisfied: sniffio in c:\\users\\fehrer\\dtdiwork\\variant-explorer-app\\.venv\\lib\\site-packages (from openai) (1.3.1)\n",
      "Requirement already satisfied: typing-extensions<5,>=4.7 in c:\\users\\fehrer\\dtdiwork\\variant-explorer-app\\.venv\\lib\\site-packages (from openai) (4.11.0)\n",
      "Requirement already satisfied: joblib>=1.0.0 in c:\\users\\fehrer\\dtdiwork\\variant-explorer-app\\.venv\\lib\\site-packages (from scikit-learn) (1.4.0)\n",
      "Requirement already satisfied: threadpoolctl>=2.0.0 in c:\\users\\fehrer\\dtdiwork\\variant-explorer-app\\.venv\\lib\\site-packages (from scikit-learn) (3.4.0)\n",
      "Requirement already satisfied: charset-normalizer<4,>=2 in c:\\users\\fehrer\\dtdiwork\\variant-explorer-app\\.venv\\lib\\site-packages (from requests) (3.3.2)\n",
      "Requirement already satisfied: idna<4,>=2.5 in c:\\users\\fehrer\\dtdiwork\\variant-explorer-app\\.venv\\lib\\site-packages (from requests) (3.7)\n",
      "Requirement already satisfied: urllib3<3,>=1.21.1 in c:\\users\\fehrer\\dtdiwork\\variant-explorer-app\\.venv\\lib\\site-packages (from requests) (2.2.1)\n",
      "Requirement already satisfied: certifi>=2017.4.17 in c:\\users\\fehrer\\dtdiwork\\variant-explorer-app\\.venv\\lib\\site-packages (from requests) (2024.2.2)\n",
      "Requirement already satisfied: docopt>=0.6.2 in c:\\users\\fehrer\\dtdiwork\\variant-explorer-app\\.venv\\lib\\site-packages (from prefixspan) (0.6.2)\n",
      "Requirement already satisfied: extratools>=0.8.1 in c:\\users\\fehrer\\dtdiwork\\variant-explorer-app\\.venv\\lib\\site-packages (from prefixspan) (0.8.2.1)\n",
      "Collecting proto-dist-ml (from edist)\n",
      "  Downloading proto_dist_ml-1.0.1-py3-none-any.whl.metadata (11 kB)\n",
      "Requirement already satisfied: exceptiongroup>=1.0.2 in c:\\users\\fehrer\\dtdiwork\\variant-explorer-app\\.venv\\lib\\site-packages (from anyio<5,>=3.5.0->openai) (1.2.0)\n",
      "Requirement already satisfied: sortedcontainers>=1.5.10 in c:\\users\\fehrer\\dtdiwork\\variant-explorer-app\\.venv\\lib\\site-packages (from extratools>=0.8.1->prefixspan) (2.4.0)\n",
      "Requirement already satisfied: toolz>=0.9.0 in c:\\users\\fehrer\\dtdiwork\\variant-explorer-app\\.venv\\lib\\site-packages (from extratools>=0.8.1->prefixspan) (0.12.1)\n",
      "Requirement already satisfied: httpcore==1.* in c:\\users\\fehrer\\dtdiwork\\variant-explorer-app\\.venv\\lib\\site-packages (from httpx<1,>=0.23.0->openai) (1.0.5)\n",
      "Requirement already satisfied: h11<0.15,>=0.13 in c:\\users\\fehrer\\dtdiwork\\variant-explorer-app\\.venv\\lib\\site-packages (from httpcore==1.*->httpx<1,>=0.23.0->openai) (0.14.0)\n",
      "Requirement already satisfied: annotated-types>=0.4.0 in c:\\users\\fehrer\\dtdiwork\\variant-explorer-app\\.venv\\lib\\site-packages (from pydantic<3,>=1.9.0->openai) (0.6.0)\n",
      "Requirement already satisfied: pydantic-core==2.18.1 in c:\\users\\fehrer\\dtdiwork\\variant-explorer-app\\.venv\\lib\\site-packages (from pydantic<3,>=1.9.0->openai) (2.18.1)\n",
      "Requirement already satisfied: six>=1.5 in c:\\users\\fehrer\\dtdiwork\\variant-explorer-app\\.venv\\lib\\site-packages (from python-dateutil>=2.8.2->pandas) (1.16.0)\n",
      "Requirement already satisfied: colorama in c:\\users\\fehrer\\dtdiwork\\variant-explorer-app\\.venv\\lib\\site-packages (from tqdm->pm4py==2.7.11) (0.4.6)\n",
      "Requirement already satisfied: packaging in c:\\users\\fehrer\\dtdiwork\\variant-explorer-app\\.venv\\lib\\site-packages (from deprecation->pm4py==2.7.11) (24.0)\n",
      "Requirement already satisfied: contourpy>=1.0.1 in c:\\users\\fehrer\\dtdiwork\\variant-explorer-app\\.venv\\lib\\site-packages (from matplotlib->pm4py==2.7.11) (1.2.1)\n",
      "Requirement already satisfied: cycler>=0.10 in c:\\users\\fehrer\\dtdiwork\\variant-explorer-app\\.venv\\lib\\site-packages (from matplotlib->pm4py==2.7.11) (0.12.1)\n",
      "Requirement already satisfied: fonttools>=4.22.0 in c:\\users\\fehrer\\dtdiwork\\variant-explorer-app\\.venv\\lib\\site-packages (from matplotlib->pm4py==2.7.11) (4.51.0)\n",
      "Requirement already satisfied: kiwisolver>=1.0.1 in c:\\users\\fehrer\\dtdiwork\\variant-explorer-app\\.venv\\lib\\site-packages (from matplotlib->pm4py==2.7.11) (1.4.5)\n",
      "Requirement already satisfied: pillow>=6.2.0 in c:\\users\\fehrer\\dtdiwork\\variant-explorer-app\\.venv\\lib\\site-packages (from matplotlib->pm4py==2.7.11) (10.3.0)\n",
      "Requirement already satisfied: pyparsing>=2.2.1 in c:\\users\\fehrer\\dtdiwork\\variant-explorer-app\\.venv\\lib\\site-packages (from matplotlib->pm4py==2.7.11) (3.1.2)\n",
      "Using cached proto_dist_ml-1.0.1-py3-none-any.whl (30 kB)\n",
      "Building wheels for collected packages: edist\n",
      "  Building wheel for edist (setup.py): started\n",
      "  Building wheel for edist (setup.py): finished with status 'done'\n",
      "  Created wheel for edist: filename=edist-1.2.2-cp310-cp310-win_amd64.whl size=828098 sha256=8f812bbd167fb5959c6d6df049c24bcc0686c7fecf5b91b0c931f1e126953c19\n",
      "  Stored in directory: c:\\users\\fehrer\\appdata\\local\\pip\\cache\\wheels\\96\\e2\\ff\\cd5c32b7c630075cff83e8c396ad213a738d7c3e0f95043c42\n",
      "Successfully built edist\n",
      "Installing collected packages: proto-dist-ml, edist\n",
      "Successfully installed edist-1.2.2 proto-dist-ml-1.0.1\n"
     ]
    }
   ],
   "source": [
    "import sys\n",
    "!{sys.executable} -m pip install numpy pandas openai scikit-learn scipy  pm4py==2.7.11 requests prefixspan edist"
   ]
  },
  {
   "cell_type": "code",
   "execution_count": 1,
   "metadata": {},
   "outputs": [],
   "source": [
    "import pm4py\n",
    "from pm4py.util import constants, xes_constants, pandas_utils\n",
    "import pandas as pd\n",
    "import sys\n",
    "sys.path.append('../')"
   ]
  },
  {
   "cell_type": "code",
   "execution_count": 4,
   "metadata": {},
   "outputs": [],
   "source": [
    "l = pm4py.read_ocel_xml('data/itam.xmlocel')"
   ]
  },
  {
   "cell_type": "code",
   "execution_count": 5,
   "metadata": {},
   "outputs": [],
   "source": [
    "pm4py.write_ocel_json(l, 'data/itam.jsonocel')"
   ]
  },
  {
   "cell_type": "code",
   "execution_count": 3,
   "metadata": {},
   "outputs": [
    {
     "data": {
      "text/plain": [
       "('bpi_challenge_2019.xes', <http.client.HTTPMessage at 0x18ff4c4b400>)"
      ]
     },
     "execution_count": 3,
     "metadata": {},
     "output_type": "execute_result"
    }
   ],
   "source": [
    "import urllib.request\n",
    "log_name = 'running-example.csv'\n",
    "url = 'https://pm4py.fit.fraunhofer.de/static/assets/data/getting_started/running-example.csv'\n",
    "urllib.request.urlretrieve(url, log_name)\n",
    "\n",
    "\n",
    "url = 'https://data.4tu.nl/file/35ed7122-966a-484e-a0e1-749b64e3366d/864493d1-3a58-47f6-ad6f-27f95f995828'\n",
    "log_name = 'bpi_challenge_2019.xes'\n",
    "urllib.request.urlretrieve(url, log_name)"
   ]
  },
  {
   "cell_type": "code",
   "execution_count": 5,
   "metadata": {},
   "outputs": [
    {
     "name": "stderr",
     "output_type": "stream",
     "text": [
      "c:\\Users\\fehrer\\dtdiwork\\variant-explorer-app\\.venv\\lib\\site-packages\\tqdm\\auto.py:22: TqdmWarning: IProgress not found. Please update jupyter and ipywidgets. See https://ipywidgets.readthedocs.io/en/stable/user_install.html\n",
      "  from .autonotebook import tqdm as notebook_tqdm\n",
      "parsing log, completed traces :: 100%|██████████| 251734/251734 [01:32<00:00, 2707.63it/s]\n",
      "c:\\Users\\fehrer\\dtdiwork\\variant-explorer-app\\.venv\\lib\\site-packages\\pm4py\\objects\\log\\util\\dataframe_utils.py:176: UserWarning: The argument 'infer_datetime_format' is deprecated and will be removed in a future version. A strict version of it is now the default, see https://pandas.pydata.org/pdeps/0004-consistent-to-datetime-parsing.html. You can safely remove this argument.\n",
      "  df[col] = pd.to_datetime(df[col], utc=True, infer_datetime_format=True)\n",
      "c:\\Users\\fehrer\\dtdiwork\\variant-explorer-app\\.venv\\lib\\site-packages\\pm4py\\objects\\log\\util\\dataframe_utils.py:176: UserWarning: Could not infer format, so each element will be parsed individually, falling back to `dateutil`. To ensure parsing is consistent and as-expected, please specify a format.\n",
      "  df[col] = pd.to_datetime(df[col], utc=True, infer_datetime_format=True)\n",
      "c:\\Users\\fehrer\\dtdiwork\\variant-explorer-app\\.venv\\lib\\site-packages\\pm4py\\objects\\log\\util\\dataframe_utils.py:176: UserWarning: The argument 'infer_datetime_format' is deprecated and will be removed in a future version. A strict version of it is now the default, see https://pandas.pydata.org/pdeps/0004-consistent-to-datetime-parsing.html. You can safely remove this argument.\n",
      "  df[col] = pd.to_datetime(df[col], utc=True, infer_datetime_format=True)\n",
      "c:\\Users\\fehrer\\dtdiwork\\variant-explorer-app\\.venv\\lib\\site-packages\\pm4py\\objects\\log\\util\\dataframe_utils.py:176: UserWarning: Could not infer format, so each element will be parsed individually, falling back to `dateutil`. To ensure parsing is consistent and as-expected, please specify a format.\n",
      "  df[col] = pd.to_datetime(df[col], utc=True, infer_datetime_format=True)\n",
      "c:\\Users\\fehrer\\dtdiwork\\variant-explorer-app\\.venv\\lib\\site-packages\\pm4py\\objects\\log\\util\\dataframe_utils.py:176: UserWarning: The argument 'infer_datetime_format' is deprecated and will be removed in a future version. A strict version of it is now the default, see https://pandas.pydata.org/pdeps/0004-consistent-to-datetime-parsing.html. You can safely remove this argument.\n",
      "  df[col] = pd.to_datetime(df[col], utc=True, infer_datetime_format=True)\n",
      "c:\\Users\\fehrer\\dtdiwork\\variant-explorer-app\\.venv\\lib\\site-packages\\pm4py\\objects\\log\\util\\dataframe_utils.py:176: UserWarning: Could not infer format, so each element will be parsed individually, falling back to `dateutil`. To ensure parsing is consistent and as-expected, please specify a format.\n",
      "  df[col] = pd.to_datetime(df[col], utc=True, infer_datetime_format=True)\n",
      "c:\\Users\\fehrer\\dtdiwork\\variant-explorer-app\\.venv\\lib\\site-packages\\pm4py\\objects\\log\\util\\dataframe_utils.py:176: UserWarning: The argument 'infer_datetime_format' is deprecated and will be removed in a future version. A strict version of it is now the default, see https://pandas.pydata.org/pdeps/0004-consistent-to-datetime-parsing.html. You can safely remove this argument.\n",
      "  df[col] = pd.to_datetime(df[col], utc=True, infer_datetime_format=True)\n",
      "c:\\Users\\fehrer\\dtdiwork\\variant-explorer-app\\.venv\\lib\\site-packages\\pm4py\\objects\\log\\util\\dataframe_utils.py:176: UserWarning: Could not infer format, so each element will be parsed individually, falling back to `dateutil`. To ensure parsing is consistent and as-expected, please specify a format.\n",
      "  df[col] = pd.to_datetime(df[col], utc=True, infer_datetime_format=True)\n",
      "c:\\Users\\fehrer\\dtdiwork\\variant-explorer-app\\.venv\\lib\\site-packages\\pm4py\\objects\\log\\util\\dataframe_utils.py:176: UserWarning: The argument 'infer_datetime_format' is deprecated and will be removed in a future version. A strict version of it is now the default, see https://pandas.pydata.org/pdeps/0004-consistent-to-datetime-parsing.html. You can safely remove this argument.\n",
      "  df[col] = pd.to_datetime(df[col], utc=True, infer_datetime_format=True)\n",
      "c:\\Users\\fehrer\\dtdiwork\\variant-explorer-app\\.venv\\lib\\site-packages\\pm4py\\objects\\log\\util\\dataframe_utils.py:176: UserWarning: Could not infer format, so each element will be parsed individually, falling back to `dateutil`. To ensure parsing is consistent and as-expected, please specify a format.\n",
      "  df[col] = pd.to_datetime(df[col], utc=True, infer_datetime_format=True)\n",
      "c:\\Users\\fehrer\\dtdiwork\\variant-explorer-app\\.venv\\lib\\site-packages\\pm4py\\objects\\log\\util\\dataframe_utils.py:176: UserWarning: The argument 'infer_datetime_format' is deprecated and will be removed in a future version. A strict version of it is now the default, see https://pandas.pydata.org/pdeps/0004-consistent-to-datetime-parsing.html. You can safely remove this argument.\n",
      "  df[col] = pd.to_datetime(df[col], utc=True, infer_datetime_format=True)\n",
      "c:\\Users\\fehrer\\dtdiwork\\variant-explorer-app\\.venv\\lib\\site-packages\\pm4py\\objects\\log\\util\\dataframe_utils.py:176: UserWarning: Could not infer format, so each element will be parsed individually, falling back to `dateutil`. To ensure parsing is consistent and as-expected, please specify a format.\n",
      "  df[col] = pd.to_datetime(df[col], utc=True, infer_datetime_format=True)\n",
      "c:\\Users\\fehrer\\dtdiwork\\variant-explorer-app\\.venv\\lib\\site-packages\\pm4py\\objects\\log\\util\\dataframe_utils.py:176: UserWarning: The argument 'infer_datetime_format' is deprecated and will be removed in a future version. A strict version of it is now the default, see https://pandas.pydata.org/pdeps/0004-consistent-to-datetime-parsing.html. You can safely remove this argument.\n",
      "  df[col] = pd.to_datetime(df[col], utc=True, infer_datetime_format=True)\n",
      "c:\\Users\\fehrer\\dtdiwork\\variant-explorer-app\\.venv\\lib\\site-packages\\pm4py\\objects\\log\\util\\dataframe_utils.py:176: UserWarning: Could not infer format, so each element will be parsed individually, falling back to `dateutil`. To ensure parsing is consistent and as-expected, please specify a format.\n",
      "  df[col] = pd.to_datetime(df[col], utc=True, infer_datetime_format=True)\n",
      "c:\\Users\\fehrer\\dtdiwork\\variant-explorer-app\\.venv\\lib\\site-packages\\pm4py\\objects\\log\\util\\dataframe_utils.py:176: UserWarning: The argument 'infer_datetime_format' is deprecated and will be removed in a future version. A strict version of it is now the default, see https://pandas.pydata.org/pdeps/0004-consistent-to-datetime-parsing.html. You can safely remove this argument.\n",
      "  df[col] = pd.to_datetime(df[col], utc=True, infer_datetime_format=True)\n",
      "c:\\Users\\fehrer\\dtdiwork\\variant-explorer-app\\.venv\\lib\\site-packages\\pm4py\\objects\\log\\util\\dataframe_utils.py:176: UserWarning: Could not infer format, so each element will be parsed individually, falling back to `dateutil`. To ensure parsing is consistent and as-expected, please specify a format.\n",
      "  df[col] = pd.to_datetime(df[col], utc=True, infer_datetime_format=True)\n",
      "c:\\Users\\fehrer\\dtdiwork\\variant-explorer-app\\.venv\\lib\\site-packages\\pm4py\\objects\\log\\util\\dataframe_utils.py:176: UserWarning: The argument 'infer_datetime_format' is deprecated and will be removed in a future version. A strict version of it is now the default, see https://pandas.pydata.org/pdeps/0004-consistent-to-datetime-parsing.html. You can safely remove this argument.\n",
      "  df[col] = pd.to_datetime(df[col], utc=True, infer_datetime_format=True)\n",
      "c:\\Users\\fehrer\\dtdiwork\\variant-explorer-app\\.venv\\lib\\site-packages\\pm4py\\objects\\log\\util\\dataframe_utils.py:176: UserWarning: The argument 'infer_datetime_format' is deprecated and will be removed in a future version. A strict version of it is now the default, see https://pandas.pydata.org/pdeps/0004-consistent-to-datetime-parsing.html. You can safely remove this argument.\n",
      "  df[col] = pd.to_datetime(df[col], utc=True, infer_datetime_format=True)\n",
      "c:\\Users\\fehrer\\dtdiwork\\variant-explorer-app\\.venv\\lib\\site-packages\\pm4py\\objects\\log\\util\\dataframe_utils.py:176: UserWarning: Could not infer format, so each element will be parsed individually, falling back to `dateutil`. To ensure parsing is consistent and as-expected, please specify a format.\n",
      "  df[col] = pd.to_datetime(df[col], utc=True, infer_datetime_format=True)\n",
      "c:\\Users\\fehrer\\dtdiwork\\variant-explorer-app\\.venv\\lib\\site-packages\\pm4py\\objects\\log\\util\\dataframe_utils.py:176: UserWarning: The argument 'infer_datetime_format' is deprecated and will be removed in a future version. A strict version of it is now the default, see https://pandas.pydata.org/pdeps/0004-consistent-to-datetime-parsing.html. You can safely remove this argument.\n",
      "  df[col] = pd.to_datetime(df[col], utc=True, infer_datetime_format=True)\n",
      "c:\\Users\\fehrer\\dtdiwork\\variant-explorer-app\\.venv\\lib\\site-packages\\pm4py\\objects\\log\\util\\dataframe_utils.py:176: UserWarning: Could not infer format, so each element will be parsed individually, falling back to `dateutil`. To ensure parsing is consistent and as-expected, please specify a format.\n",
      "  df[col] = pd.to_datetime(df[col], utc=True, infer_datetime_format=True)\n",
      "c:\\Users\\fehrer\\dtdiwork\\variant-explorer-app\\.venv\\lib\\site-packages\\pm4py\\objects\\log\\util\\dataframe_utils.py:176: UserWarning: The argument 'infer_datetime_format' is deprecated and will be removed in a future version. A strict version of it is now the default, see https://pandas.pydata.org/pdeps/0004-consistent-to-datetime-parsing.html. You can safely remove this argument.\n",
      "  df[col] = pd.to_datetime(df[col], utc=True, infer_datetime_format=True)\n",
      "c:\\Users\\fehrer\\dtdiwork\\variant-explorer-app\\.venv\\lib\\site-packages\\pm4py\\objects\\log\\util\\dataframe_utils.py:176: UserWarning: Could not infer format, so each element will be parsed individually, falling back to `dateutil`. To ensure parsing is consistent and as-expected, please specify a format.\n",
      "  df[col] = pd.to_datetime(df[col], utc=True, infer_datetime_format=True)\n",
      "c:\\Users\\fehrer\\dtdiwork\\variant-explorer-app\\.venv\\lib\\site-packages\\pm4py\\objects\\log\\util\\dataframe_utils.py:176: UserWarning: The argument 'infer_datetime_format' is deprecated and will be removed in a future version. A strict version of it is now the default, see https://pandas.pydata.org/pdeps/0004-consistent-to-datetime-parsing.html. You can safely remove this argument.\n",
      "  df[col] = pd.to_datetime(df[col], utc=True, infer_datetime_format=True)\n",
      "c:\\Users\\fehrer\\dtdiwork\\variant-explorer-app\\.venv\\lib\\site-packages\\pm4py\\objects\\log\\util\\dataframe_utils.py:176: UserWarning: Could not infer format, so each element will be parsed individually, falling back to `dateutil`. To ensure parsing is consistent and as-expected, please specify a format.\n",
      "  df[col] = pd.to_datetime(df[col], utc=True, infer_datetime_format=True)\n",
      "c:\\Users\\fehrer\\dtdiwork\\variant-explorer-app\\.venv\\lib\\site-packages\\pm4py\\objects\\log\\util\\dataframe_utils.py:176: UserWarning: The argument 'infer_datetime_format' is deprecated and will be removed in a future version. A strict version of it is now the default, see https://pandas.pydata.org/pdeps/0004-consistent-to-datetime-parsing.html. You can safely remove this argument.\n",
      "  df[col] = pd.to_datetime(df[col], utc=True, infer_datetime_format=True)\n",
      "c:\\Users\\fehrer\\dtdiwork\\variant-explorer-app\\.venv\\lib\\site-packages\\pm4py\\objects\\log\\util\\dataframe_utils.py:176: UserWarning: The argument 'infer_datetime_format' is deprecated and will be removed in a future version. A strict version of it is now the default, see https://pandas.pydata.org/pdeps/0004-consistent-to-datetime-parsing.html. You can safely remove this argument.\n",
      "  df[col] = pd.to_datetime(df[col], utc=True, infer_datetime_format=True)\n",
      "c:\\Users\\fehrer\\dtdiwork\\variant-explorer-app\\.venv\\lib\\site-packages\\pm4py\\objects\\log\\util\\dataframe_utils.py:176: UserWarning: Could not infer format, so each element will be parsed individually, falling back to `dateutil`. To ensure parsing is consistent and as-expected, please specify a format.\n",
      "  df[col] = pd.to_datetime(df[col], utc=True, infer_datetime_format=True)\n",
      "c:\\Users\\fehrer\\dtdiwork\\variant-explorer-app\\.venv\\lib\\site-packages\\pm4py\\objects\\log\\util\\dataframe_utils.py:176: UserWarning: The argument 'infer_datetime_format' is deprecated and will be removed in a future version. A strict version of it is now the default, see https://pandas.pydata.org/pdeps/0004-consistent-to-datetime-parsing.html. You can safely remove this argument.\n",
      "  df[col] = pd.to_datetime(df[col], utc=True, infer_datetime_format=True)\n",
      "c:\\Users\\fehrer\\dtdiwork\\variant-explorer-app\\.venv\\lib\\site-packages\\pm4py\\objects\\log\\util\\dataframe_utils.py:176: UserWarning: Could not infer format, so each element will be parsed individually, falling back to `dateutil`. To ensure parsing is consistent and as-expected, please specify a format.\n",
      "  df[col] = pd.to_datetime(df[col], utc=True, infer_datetime_format=True)\n",
      "c:\\Users\\fehrer\\dtdiwork\\variant-explorer-app\\.venv\\lib\\site-packages\\pm4py\\objects\\log\\util\\dataframe_utils.py:176: UserWarning: The argument 'infer_datetime_format' is deprecated and will be removed in a future version. A strict version of it is now the default, see https://pandas.pydata.org/pdeps/0004-consistent-to-datetime-parsing.html. You can safely remove this argument.\n",
      "  df[col] = pd.to_datetime(df[col], utc=True, infer_datetime_format=True)\n",
      "c:\\Users\\fehrer\\dtdiwork\\variant-explorer-app\\.venv\\lib\\site-packages\\pm4py\\objects\\log\\util\\dataframe_utils.py:176: UserWarning: Could not infer format, so each element will be parsed individually, falling back to `dateutil`. To ensure parsing is consistent and as-expected, please specify a format.\n",
      "  df[col] = pd.to_datetime(df[col], utc=True, infer_datetime_format=True)\n"
     ]
    },
    {
     "data": {
      "text/plain": [
       "User                              1595923\n",
       "org:resource                      1595923\n",
       "concept:name                      1595923\n",
       "Cumulative net worth (EUR)        1595923\n",
       "time:timestamp                    1595923\n",
       "case:Spend area text              1595923\n",
       "case:Company                      1595923\n",
       "case:Document Type                1595923\n",
       "case:Sub spend area text          1595923\n",
       "case:Purchasing Document          1595923\n",
       "case:Purch. Doc. Category name    1595923\n",
       "case:Vendor                       1595923\n",
       "case:Item Type                    1595923\n",
       "case:Item Category                1595923\n",
       "case:Spend classification text    1595923\n",
       "case:Source                       1595923\n",
       "case:Name                         1595923\n",
       "case:GR-Based Inv. Verif.         1595923\n",
       "case:Item                         1595923\n",
       "case:concept:name                 1595923\n",
       "case:Goods Receipt                1595923\n",
       "dtype: int64"
      ]
     },
     "metadata": {},
     "output_type": "display_data"
    },
    {
     "name": "stderr",
     "output_type": "stream",
     "text": [
      "exporting log, completed traces :: 100%|██████████| 2000/2000 [00:00<00:00, 3481.08it/s]\n"
     ]
    }
   ],
   "source": [
    "full_log = pm4py.read_xes('data/bpi_challenge_2019.xes')\n",
    "display(full_log.count())\n",
    "\n",
    "sample_size = 2000\n",
    "\n",
    "small_log = pm4py.sample_cases(full_log, sample_size)\n",
    "pm4py.write_xes(small_log, 'data/bpi_challenge_2019_sample.xes')"
   ]
  }
 ],
 "metadata": {
  "kernelspec": {
   "display_name": ".venv",
   "language": "python",
   "name": "python3"
  },
  "language_info": {
   "codemirror_mode": {
    "name": "ipython",
    "version": 3
   },
   "file_extension": ".py",
   "mimetype": "text/x-python",
   "name": "python",
   "nbconvert_exporter": "python",
   "pygments_lexer": "ipython3",
   "version": "3.10.0"
  }
 },
 "nbformat": 4,
 "nbformat_minor": 2
}
